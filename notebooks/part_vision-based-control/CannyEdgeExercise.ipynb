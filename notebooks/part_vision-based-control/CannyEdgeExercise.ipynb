{
 "cells": [
  {
   "cell_type": "markdown",
   "metadata": {},
   "source": [
    "### Write your own Canny edge function\n",
    "\n",
    "  Now that you know how a camera works and how is structured the image acuisition pipeline, let's try to see some results!\n",
    "\n",
    "  Your task is to create a function that can extract edges from an image.\n",
    "\n",
    "  You will see your function running two tasks, the first one consist in an evaluation of your function based on some thresholds performaces we defined. The second one sees your function implemented ...... (SOMEWHERE WHERE DUCKIETOWN USE CANNY EDGE?!)\n",
    "\n",
    "  "
   ]
  },
  {
   "cell_type": "code",
   "execution_count": null,
   "metadata": {},
   "outputs": [],
   "source": [
    "\n",
    "# don't change the name of the function\n",
    "def myCannyFunction():\n",
    "\n",
    "\n",
    "\n",
    "    \n",
    "\n",
    "    return \"\" #this \n",
    "\n"
   ]
  },
  {
   "cell_type": "markdown",
   "metadata": {},
   "source": [
    "### First evaluation\n",
    "\n",
    "    \n",
    "\n",
    "\n"
   ]
  },
  {
   "cell_type": "code",
   "execution_count": null,
   "metadata": {},
   "outputs": [],
   "source": [
    "#\n",
    "#\n",
    "#   Something that generate an image from the simulator\n",
    "#"
   ]
  },
  {
   "cell_type": "markdown",
   "metadata": {},
   "source": [
    "### Second Evaluation"
   ]
  },
  {
   "cell_type": "code",
   "execution_count": null,
   "metadata": {},
   "outputs": [],
   "source": [
    "#\n",
    "#\n",
    "#   Use the function\n",
    "#"
   ]
  }
 ],
 "metadata": {
  "language_info": {
   "codemirror_mode": {
    "name": "ipython",
    "version": 3
   },
   "file_extension": ".py",
   "mimetype": "text/x-python",
   "name": "python",
   "nbconvert_exporter": "python",
   "pygments_lexer": "ipython3",
   "version": 3
  },
  "orig_nbformat": 2
 },
 "nbformat": 4,
 "nbformat_minor": 2
}